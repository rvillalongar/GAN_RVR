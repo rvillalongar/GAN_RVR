{
 "cells": [
  {
   "cell_type": "code",
   "execution_count": 1,
   "metadata": {},
   "outputs": [],
   "source": [
    "import os\n",
    "from glob import glob\n",
    "import numpy as np \n",
    "from models.VAE import VariationalAutoencoder\n",
    "from tensorflow.keras.preprocessing.image import ImageDataGenerator"
   ]
  },
  {
   "cell_type": "code",
   "execution_count": 23,
   "metadata": {},
   "outputs": [],
   "source": [
    "section = 'vae'\n",
    "run_id='0001'\n",
    "data_name = 'faces'\n",
    "RUN_FOLDER = 'run/{}/'.format(section)\n",
    "RUN_FOLDER += '_'.join([run_id, data_name])\n",
    "\n",
    "if not os.path.exists(RUN_FOLDER):\n",
    "    os.makedirs(RUN_FOLDER)\n",
    "    os.makedirs(os.path.join(RUN_FOLDER, 'viz'))\n",
    "    os.makedirs(os.path.join(RUN_FOLDER, 'images'))\n",
    "    os.makedirs(os.path.join(RUN_FOLDER, 'weights'))\n",
    "\n",
    "mode = 'build'\n",
    "\n",
    "DATA_FOLDER = 'o:/Dataset/Large-scale-CelebFaces-Dataset/Img/'\n",
    "#filenames = np.array(glob(os.path.join(DATA_FOLDER, '*.jpg')))"
   ]
  },
  {
   "cell_type": "code",
   "execution_count": 24,
   "metadata": {},
   "outputs": [],
   "source": [
    "INPUT_DIM = (128,128,3)\n",
    "BATCH_SIZE = 32\n",
    "filenames = np.array(glob(os.path.join(DATA_FOLDER, '*/*.jpg')))\n",
    "NUM_IMAGES = len(filenames)"
   ]
  },
  {
   "cell_type": "code",
   "execution_count": 25,
   "metadata": {},
   "outputs": [
    {
     "output_type": "stream",
     "name": "stdout",
     "text": "202599\no:/Dataset/Large-scale-CelebFaces-Dataset/Img/\n"
    }
   ],
   "source": [
    "print(NUM_IMAGES)\n",
    "print(DATA_FOLDER)"
   ]
  },
  {
   "cell_type": "code",
   "execution_count": 26,
   "metadata": {},
   "outputs": [
    {
     "output_type": "stream",
     "name": "stdout",
     "text": "Found 202599 images belonging to 1 classes.\n"
    }
   ],
   "source": [
    "data_gen = ImageDataGenerator(rescale=1./255)\n",
    "\n",
    "data_flow = data_gen.flow_from_directory(\n",
    "    DATA_FOLDER\n",
    "    ,target_size = INPUT_DIM[:2]\n",
    "    ,batch_size = BATCH_SIZE\n",
    "    ,shuffle =True\n",
    "    ,class_mode = 'input'\n",
    "    ,subset='training'\n",
    "    )"
   ]
  },
  {
   "cell_type": "code",
   "execution_count": 27,
   "metadata": {},
   "outputs": [],
   "source": [
    "vae = VariationalAutoencoder(\n",
    "    input_dim=INPUT_DIM\n",
    "    , encoder_conv_filters=[32,64,64,64]\n",
    "    , encoder_conv_kernel_size=[3,3,3,3]\n",
    "    , encoder_conv_strides=[2,2,2,2]\n",
    "    , decoder_conv_t_filters=[64,64,32,3]\n",
    "    , decoder_conv_t_kernel_size=[3,3,3,3]\n",
    "    , decoder_conv_t_strides=[2,2,2,2]\n",
    "    , z_dim=200\n",
    "    , use_batch_norm=True\n",
    "    , use_dropout=True\n",
    ")\n",
    "\n",
    "if mode=='build':\n",
    "    vae.save(RUN_FOLDER)\n",
    "else:\n",
    "    vae.load_weights(os.path.join(RUN_FOLDER, 'weights/weights.h5'))"
   ]
  },
  {
   "cell_type": "code",
   "execution_count": 28,
   "metadata": {},
   "outputs": [
    {
     "output_type": "stream",
     "name": "stdout",
     "text": "Model: \"model_5\"\n__________________________________________________________________________________________________\nLayer (type)                    Output Shape         Param #     Connected to                     \n==================================================================================================\nencoder_input (InputLayer)      [(None, 128, 128, 3) 0                                            \n__________________________________________________________________________________________________\nencoder_conv_0 (Conv2D)         (None, 64, 64, 32)   896         encoder_input[0][0]              \n__________________________________________________________________________________________________\nbatch_normalization_7 (BatchNor (None, 64, 64, 32)   128         encoder_conv_0[0][0]             \n__________________________________________________________________________________________________\nleaky_re_lu_7 (LeakyReLU)       (None, 64, 64, 32)   0           batch_normalization_7[0][0]      \n__________________________________________________________________________________________________\ndropout_7 (Dropout)             (None, 64, 64, 32)   0           leaky_re_lu_7[0][0]              \n__________________________________________________________________________________________________\nencoder_conv_1 (Conv2D)         (None, 32, 32, 64)   18496       dropout_7[0][0]                  \n__________________________________________________________________________________________________\nbatch_normalization_8 (BatchNor (None, 32, 32, 64)   256         encoder_conv_1[0][0]             \n__________________________________________________________________________________________________\nleaky_re_lu_8 (LeakyReLU)       (None, 32, 32, 64)   0           batch_normalization_8[0][0]      \n__________________________________________________________________________________________________\ndropout_8 (Dropout)             (None, 32, 32, 64)   0           leaky_re_lu_8[0][0]              \n__________________________________________________________________________________________________\nencoder_conv_2 (Conv2D)         (None, 16, 16, 64)   36928       dropout_8[0][0]                  \n__________________________________________________________________________________________________\nbatch_normalization_9 (BatchNor (None, 16, 16, 64)   256         encoder_conv_2[0][0]             \n__________________________________________________________________________________________________\nleaky_re_lu_9 (LeakyReLU)       (None, 16, 16, 64)   0           batch_normalization_9[0][0]      \n__________________________________________________________________________________________________\ndropout_9 (Dropout)             (None, 16, 16, 64)   0           leaky_re_lu_9[0][0]              \n__________________________________________________________________________________________________\nencoder_conv_3 (Conv2D)         (None, 8, 8, 64)     36928       dropout_9[0][0]                  \n__________________________________________________________________________________________________\nbatch_normalization_10 (BatchNo (None, 8, 8, 64)     256         encoder_conv_3[0][0]             \n__________________________________________________________________________________________________\nleaky_re_lu_10 (LeakyReLU)      (None, 8, 8, 64)     0           batch_normalization_10[0][0]     \n__________________________________________________________________________________________________\ndropout_10 (Dropout)            (None, 8, 8, 64)     0           leaky_re_lu_10[0][0]             \n__________________________________________________________________________________________________\nflatten_1 (Flatten)             (None, 4096)         0           dropout_10[0][0]                 \n__________________________________________________________________________________________________\nmu (Dense)                      (None, 200)          819400      flatten_1[0][0]                  \n__________________________________________________________________________________________________\nlog_var (Dense)                 (None, 200)          819400      flatten_1[0][0]                  \n__________________________________________________________________________________________________\nencoder_output (Lambda)         (None, 200)          0           mu[0][0]                         \n                                                                 log_var[0][0]                    \n==================================================================================================\nTotal params: 1,732,944\nTrainable params: 1,732,496\nNon-trainable params: 448\n__________________________________________________________________________________________________\n"
    }
   ],
   "source": [
    "vae.encoder.summary()"
   ]
  },
  {
   "cell_type": "code",
   "execution_count": 29,
   "metadata": {},
   "outputs": [
    {
     "output_type": "stream",
     "name": "stdout",
     "text": "Model: \"model_6\"\n_________________________________________________________________\nLayer (type)                 Output Shape              Param #   \n=================================================================\ndecoder_input (InputLayer)   [(None, 200)]             0         \n_________________________________________________________________\ndense_1 (Dense)              (None, 4096)              823296    \n_________________________________________________________________\nreshape_1 (Reshape)          (None, 8, 8, 64)          0         \n_________________________________________________________________\ndecoder_conv_t_0 (Conv2DTran (None, 16, 16, 64)        36928     \n_________________________________________________________________\nbatch_normalization_11 (Batc (None, 16, 16, 64)        256       \n_________________________________________________________________\nleaky_re_lu_11 (LeakyReLU)   (None, 16, 16, 64)        0         \n_________________________________________________________________\ndropout_11 (Dropout)         (None, 16, 16, 64)        0         \n_________________________________________________________________\ndecoder_conv_t_1 (Conv2DTran (None, 32, 32, 64)        36928     \n_________________________________________________________________\nbatch_normalization_12 (Batc (None, 32, 32, 64)        256       \n_________________________________________________________________\nleaky_re_lu_12 (LeakyReLU)   (None, 32, 32, 64)        0         \n_________________________________________________________________\ndropout_12 (Dropout)         (None, 32, 32, 64)        0         \n_________________________________________________________________\ndecoder_conv_t_2 (Conv2DTran (None, 64, 64, 32)        18464     \n_________________________________________________________________\nbatch_normalization_13 (Batc (None, 64, 64, 32)        128       \n_________________________________________________________________\nleaky_re_lu_13 (LeakyReLU)   (None, 64, 64, 32)        0         \n_________________________________________________________________\ndropout_13 (Dropout)         (None, 64, 64, 32)        0         \n_________________________________________________________________\ndecoder_conv_t_3 (Conv2DTran (None, 128, 128, 3)       867       \n_________________________________________________________________\nactivation_1 (Activation)    (None, 128, 128, 3)       0         \n=================================================================\nTotal params: 917,123\nTrainable params: 916,803\nNon-trainable params: 320\n_________________________________________________________________\n"
    }
   ],
   "source": [
    "vae.decoder.summary()"
   ]
  },
  {
   "cell_type": "code",
   "execution_count": 30,
   "metadata": {},
   "outputs": [],
   "source": [
    "LEARNING_RATE = 0.0005\n",
    "R_LOSS_FACTOR =10000\n",
    "EPOCHS = 50\n",
    "PRINT_EVERY_N_BATCHES = 1000\n",
    "INITIAL_EPOCHS=0"
   ]
  },
  {
   "cell_type": "code",
   "execution_count": 31,
   "metadata": {},
   "outputs": [],
   "source": [
    "vae.compile(LEARNING_RATE, R_LOSS_FACTOR)"
   ]
  },
  {
   "cell_type": "code",
   "execution_count": 32,
   "metadata": {},
   "outputs": [
    {
     "output_type": "stream",
     "name": "stderr",
     "text": "W0609 12:08:37.664214 17332 data_utils.py:522] multiprocessing can interact badly with TensorFlow, causing nondeterministic deadlocks. For high performance data pipelines tf.data is recommended.\nEpoch 1/50\nException in thread Thread-74:\nTraceback (most recent call last):\n  File \"c:\\users\\rvill\\appdata\\local\\programs\\python\\python37\\Lib\\threading.py\", line 926, in _bootstrap_inner\n    self.run()\n  File \"c:\\users\\rvill\\appdata\\local\\programs\\python\\python37\\Lib\\threading.py\", line 870, in run\n    self._target(*self._args, **self._kwargs)\n  File \"O:\\virtuelenv\\generative\\lib\\site-packages\\tensorflow\\python\\keras\\utils\\data_utils.py\", line 843, in _run\n    with closing(self.executor_fn(_SHARED_SEQUENCES)) as executor:\n  File \"O:\\virtuelenv\\generative\\lib\\site-packages\\tensorflow\\python\\keras\\utils\\data_utils.py\", line 822, in pool_fn\n    initargs=(seqs, None, get_worker_id_queue()))\n  File \"c:\\users\\rvill\\appdata\\local\\programs\\python\\python37\\Lib\\multiprocessing\\context.py\", line 119, in Pool\n    context=self.get_context())\n  File \"c:\\users\\rvill\\appdata\\local\\programs\\python\\python37\\Lib\\multiprocessing\\pool.py\", line 176, in __init__\n    self._repopulate_pool()\n  File \"c:\\users\\rvill\\appdata\\local\\programs\\python\\python37\\Lib\\multiprocessing\\pool.py\", line 241, in _repopulate_pool\n    w.start()\n  File \"c:\\users\\rvill\\appdata\\local\\programs\\python\\python37\\Lib\\multiprocessing\\process.py\", line 112, in start\n    self._popen = self._Popen(self)\n  File \"c:\\users\\rvill\\appdata\\local\\programs\\python\\python37\\Lib\\multiprocessing\\context.py\", line 322, in _Popen\n    return Popen(process_obj)\n  File \"c:\\users\\rvill\\appdata\\local\\programs\\python\\python37\\Lib\\multiprocessing\\popen_spawn_win32.py\", line 89, in __init__\n    reduction.dump(process_obj, to_child)\n  File \"c:\\users\\rvill\\appdata\\local\\programs\\python\\python37\\Lib\\multiprocessing\\reduction.py\", line 60, in dump\n    ForkingPickler(file, protocol).dump(obj)\nTypeError: can't pickle _thread.lock objects\n\n"
    }
   ],
   "source": [
    "vae.train_with_generator(\n",
    "    data_flow\n",
    "    ,epochs= EPOCHS\n",
    "    ,steps_per_epoch=NUM_IMAGES/BATCH_SIZE\n",
    "    ,run_folder=RUN_FOLDER\n",
    "    ,print_every_n_batches=PRINT_EVERY_N_BATCHES\n",
    "    ,initial_epoch=INITIAL_EPOCHS\n",
    ")"
   ]
  },
  {
   "cell_type": "code",
   "execution_count": null,
   "metadata": {},
   "outputs": [],
   "source": []
  }
 ],
 "metadata": {
  "language_info": {
   "codemirror_mode": {
    "name": "ipython",
    "version": 3
   },
   "file_extension": ".py",
   "mimetype": "text/x-python",
   "name": "python",
   "nbconvert_exporter": "python",
   "pygments_lexer": "ipython3",
   "version": "3.7.7-final"
  },
  "orig_nbformat": 2,
  "kernelspec": {
   "name": "generative",
   "display_name": "generative"
  }
 },
 "nbformat": 4,
 "nbformat_minor": 2
}